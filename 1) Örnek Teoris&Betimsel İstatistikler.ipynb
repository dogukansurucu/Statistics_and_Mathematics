{
 "cells": [
  {
   "cell_type": "markdown",
   "id": "6ad90b14-f57c-402a-b00b-298dee4d8a58",
   "metadata": {},
   "source": [
    "## **VERİ BİLİMİ İÇİN İSTATİSTİK GİRİŞ**"
   ]
  },
  {
   "cell_type": "markdown",
   "id": "1881b621-236b-43f6-b44a-5f67cf6c4019",
   "metadata": {},
   "source": [
    "> İstatistik doğru bir şekilde veri toplama ve verileri bilgiye dönüştürme bilimidir. İstatistik, verilerden öğrenebilmeyi, gözlemleri bilgiye dönüştürmeyi sağlar. Böylece, istatistiksel teknikler, belirsizliklerin varolduğu bir dünyada, bu belirsizlikleri temelde olasılık kavramı aracılığı ile kontrol altında tutar ve gözlemleri bilime dayalı bilgi ve yorum verir hale getirir."
   ]
  },
  {
   "cell_type": "markdown",
   "id": "ff2d477c-13c4-420d-97f2-629f29312ba4",
   "metadata": {},
   "source": [
    "* **Örnek Teorisi**\n",
    "* **Betimsel İstatistikler**\n",
    "* **Güven Aralıkları**\n",
    "* **Olasılık Dağılımları**\n",
    "* **Hipotez Testleri**\n",
    "* **Varyans Analizi**\n",
    "* **Korelasyon Analizi**"
   ]
  },
  {
   "cell_type": "markdown",
   "id": "99bf3948-8042-4d86-897a-989b28f9b85b",
   "metadata": {},
   "source": [
    "## **ÖRNEKLEM-POPÜLASYON İLİŞKİSİ**"
   ]
  },
  {
   "cell_type": "code",
   "execution_count": 28,
   "id": "fc22a03a-1da5-4b48-aefd-8e38504c34f3",
   "metadata": {},
   "outputs": [],
   "source": [
    "import numpy as np"
   ]
  },
  {
   "cell_type": "code",
   "execution_count": 33,
   "id": "c6698534-c07e-4d46-81c0-791aeedba212",
   "metadata": {},
   "outputs": [],
   "source": [
    "populasyon = np.random.randint(0,500,10000)"
   ]
  },
  {
   "cell_type": "code",
   "execution_count": 45,
   "id": "5a009cfa-0226-4f77-b772-42ab57dbb882",
   "metadata": {},
   "outputs": [
    {
     "data": {
      "text/plain": [
       "array([442, 205, 148, 404, 440, 396, 251, 320, 251,   0])"
      ]
     },
     "execution_count": 45,
     "metadata": {},
     "output_type": "execute_result"
    }
   ],
   "source": [
    "populasyon[0:10]"
   ]
  },
  {
   "cell_type": "markdown",
   "id": "cc0dfa1d-af66-4085-a01c-373e64a3db64",
   "metadata": {},
   "source": [
    "> **np.random.seed nedir ?**\n",
    "* random fonksiyonu çalışırken sistem saatini kullanır ve bu sürekli değişken bir değerdir. bize rastgelelik sağlar.Bu blokları çalıştırıp yorum yapacağımızdan dolayı her çalıştırdığımızda değerlerin değişmesini istemediğimiz için sistem saati yerine sabit bir sayı veriyoruz.Bu sayede her çalıştırdığımızda aynı değerleri alıyoruz.\n",
    "* Mesela random.seed(35) seçtik diyelim. Bunu yaparken şunu demiş oluyoruz. Ben birazdan rastgele bir seçim yapacağım ama daha sonra aynı sayıları tekrar kullanmak istiyorum. Ben ne zaman seed(35) dersem bunu dedikten sonraki seçim işleminde bana o aynı sayıları getir. Bir nevi sayılar kaybolmasın diye kendi belirlediğimiz bir kutunun içine o sayıları koyuyoruz gibi düşünülebilir."
   ]
  },
  {
   "cell_type": "code",
   "execution_count": 37,
   "id": "41a4cc27-4379-4e78-a5d1-e30cfb929a1d",
   "metadata": {},
   "outputs": [
    {
     "data": {
      "text/plain": [
       "array([ 91, 376, 242,  21, 337, 315, 421,  99, 481,  44, 475, 431, 174,\n",
       "        24, 423, 107, 432, 446, 360, 252])"
      ]
     },
     "execution_count": 37,
     "metadata": {},
     "output_type": "execute_result"
    }
   ],
   "source": [
    "# Örneklem Çekimi\n",
    "np.random.seed(21)\n",
    "orneklem = np.random.choice(a = populasyon,size = 100)  # bu bir örneklemdir.Yani populasyon ana verisinin alt kümelerindendir.\n",
    "orneklem[0:20]"
   ]
  },
  {
   "cell_type": "code",
   "execution_count": 38,
   "id": "8a6c3147-e77f-4684-8e54-40914c435ba2",
   "metadata": {},
   "outputs": [
    {
     "data": {
      "text/plain": [
       "array([ 91, 376, 242,  21, 337, 315, 421,  99, 481,  44, 475, 431, 174,\n",
       "        24, 423, 107, 432, 446, 360, 252,  18,  10, 332, 116, 127,  66,\n",
       "       247, 204, 100, 466, 396, 192, 370, 321, 135, 135,  14, 193, 138,\n",
       "       163,  52, 285, 322, 448, 159,  15,  86, 295,  53, 184, 295, 237,\n",
       "       216, 139, 187, 251, 466, 391, 389, 236,  96, 455, 495,  66, 278,\n",
       "        45, 141, 337, 106, 350, 442,  46, 400,  91, 111, 470, 394, 161,\n",
       "        61, 430, 387, 449, 484,  68,  22, 115, 231,  53, 384, 440, 279,\n",
       "       445, 486, 289,  85, 177, 323,  14,   1, 155])"
      ]
     },
     "execution_count": 38,
     "metadata": {},
     "output_type": "execute_result"
    }
   ],
   "source": [
    "orneklem"
   ]
  },
  {
   "cell_type": "code",
   "execution_count": 5,
   "id": "9c0edc26-8b0a-42bd-a167-bff045fc5ff2",
   "metadata": {},
   "outputs": [
    {
     "data": {
      "text/plain": [
       "217.22"
      ]
     },
     "execution_count": 5,
     "metadata": {},
     "output_type": "execute_result"
    }
   ],
   "source": [
    "orneklem.mean()"
   ]
  },
  {
   "cell_type": "code",
   "execution_count": 6,
   "id": "ca67d07f-4c56-45c7-a4e3-5199b373882d",
   "metadata": {},
   "outputs": [
    {
     "data": {
      "text/plain": [
       "247.1148"
      ]
     },
     "execution_count": 6,
     "metadata": {},
     "output_type": "execute_result"
    }
   ],
   "source": [
    "populasyon.mean()"
   ]
  },
  {
   "cell_type": "markdown",
   "id": "607ada9d-26b1-4e8f-a302-5cf79729c6d2",
   "metadata": {},
   "source": [
    "**Özetleyecek olursak, örneklemler popülasyonların alt kümeleridir. Bir örneklemin ortalamasını aldığımızda popülasyonun ortalamasına yakın olduğunu görürüz.Aynı popülasyonun farklı 2 örneklemin ortalamaları farklı çıkabilir. Bu popülasyondan alınan değerlere göre değişir.Sonuç olarak biz örneklemin ortalamasına bakarak popüslasyon dediğimiz ana verinin ortalaması üzerine yorum yapabiliriz.**"
   ]
  },
  {
   "cell_type": "markdown",
   "id": "1be1bb66-9247-46c5-8c1e-d6a8c7503a59",
   "metadata": {},
   "source": [
    "## **BETİMSEL İSTATİSTİKLER**"
   ]
  },
  {
   "cell_type": "markdown",
   "id": "681cb3fc-cdc2-422d-bed0-e52aac49859b",
   "metadata": {},
   "source": [
    "* Ortalama\n",
    "* Medyan\n",
    "* Mod\n",
    "* Kartiller\n",
    "* Değişim Aralığı\n",
    "* Standart Sapma\n",
    "* Varyans\n",
    "* Çarpıklık\n",
    "* Basıklık\n",
    "* Kovaryans\n",
    "* Korelasyon"
   ]
  },
  {
   "cell_type": "code",
   "execution_count": 7,
   "id": "52e31ea8-6e20-4474-a49e-7f613580ea35",
   "metadata": {},
   "outputs": [],
   "source": [
    "# DİKKAT !!! Betimsel istatistiklerden bahsederken jupyter notebook ortamı gereği formülleri burada değil github veri görselleştirme klasöründe paylaşacağım."
   ]
  },
  {
   "cell_type": "markdown",
   "id": "41d3cabe-e430-4fa7-be55-c411529c0d54",
   "metadata": {},
   "source": [
    "<span style='color:red'>MERKEZİ EĞİLİM ÖLÇÜLERİ</span>"
   ]
  },
  {
   "cell_type": "markdown",
   "id": "16b5a01b-7908-409e-8809-7a9f518e53b6",
   "metadata": {},
   "source": [
    "**ARİTMETİK ORTALAMA**<br>\n",
    "Bir seride yer alan tüm değerlerin toplanması ve birim sayısına bölünmesi ile elde edilen istatistiktir."
   ]
  },
  {
   "cell_type": "markdown",
   "id": "d7e5d761-de89-4c9b-b91f-3d45ed42c219",
   "metadata": {},
   "source": [
    "**MEDYAN**<br>\n",
    "Bir veri setini büyükten küçüğe veya küçükten büyüğe sıralandığımızda tam orta noktadan veri setini iki eşit parçaya ayıran değere **medyan** denir<br>\n",
    "* Veri setinin hacmi **TEK** sayı için, (n+1)/2\n",
    "* Veri setinin hacmi **ÇİFT** sayı ise n/2 ve (n/2)+1"
   ]
  },
  {
   "cell_type": "markdown",
   "id": "75605312-1a47-46d7-abd0-d8f89228c325",
   "metadata": {},
   "source": [
    "**MOD**<br>\n",
    "Bir seride/değişkende en çok en çok tekrar eden değere **Mod** adı verilir. "
   ]
  },
  {
   "cell_type": "markdown",
   "id": "c0542f26-a818-4b21-9a59-aabcd99cd5af",
   "metadata": {},
   "source": [
    "**KARTİLLER**<br>\n",
    "Küçükten büyüğe sıralanan bir seriyi 4 parçaya ayıran değerlere **Kartiller** denir.<br>\n",
    "**n=Veri Sayısı olmak üzere, 1.Çeyrek(Q1)** = (n+1)/4 , **3.Çeyrek(Q3)** = (n+1)*3/4 , **Q2(medyan)** = Q3-Q1  "
   ]
  },
  {
   "cell_type": "markdown",
   "id": "4e726dcf-fb84-470d-8c67-629327260059",
   "metadata": {},
   "source": [
    "<span style='color:red'>MERKEZİ DAĞILIM ÖLÇÜLERİ</span>"
   ]
  },
  {
   "cell_type": "markdown",
   "id": "6bafde82-68fa-4fa5-a026-94111089e635",
   "metadata": {},
   "source": [
    "**DEĞİŞİM ARALIĞI**<br><br>\n",
    "**Değişim Aralığı** = Serinin Maksimum değeri - S. Minimum değer"
   ]
  },
  {
   "cell_type": "markdown",
   "id": "0a04c2d1-789b-4f41-8f4b-06b47ad84e2c",
   "metadata": {},
   "source": [
    "**STANDART SAPMA**<br><br>\n",
    "Ortalamadan olan sapmaların genel ölçüsüdür."
   ]
  },
  {
   "cell_type": "code",
   "execution_count": 57,
   "id": "0118e0d6-f83a-4904-b00e-8394e15e675b",
   "metadata": {},
   "outputs": [],
   "source": [
    "import numpy as np\n",
    "a = np.array([6,2,3,1])"
   ]
  },
  {
   "cell_type": "code",
   "execution_count": 58,
   "id": "337a731d-debc-46d1-8490-e4c9010c72c2",
   "metadata": {},
   "outputs": [
    {
     "data": {
      "text/plain": [
       "1.8708286933869707"
      ]
     },
     "execution_count": 58,
     "metadata": {},
     "output_type": "execute_result"
    }
   ],
   "source": [
    "a.std()"
   ]
  },
  {
   "cell_type": "markdown",
   "id": "31c5b7ed-cffe-4f27-9707-6636053d3af6",
   "metadata": {},
   "source": [
    "**VARYANS**<br><br>\n",
    "Ortalama etrafındaki dağılımın ölçüsüdür.**Standart sapmanın karesidir.**"
   ]
  },
  {
   "cell_type": "markdown",
   "id": "6188f842-ba0b-4150-a561-e4cf3c0f1a09",
   "metadata": {},
   "source": [
    "**ÇARPIKLIK**<br><br>\n",
    "Bir değişkenin dağılımının simetrik olamayışıdır.<br>\n",
    "* P.Ç.K < 0 ise ----> **Negatif Çarpık**\n",
    "* P.Ç.K = 0 ise ----> **Simetrik**\n",
    "* P.Ç.K > 0 ise ----> **Pozitif Çarpık**\n",
    "\n",
    "simetrik ---> (medyan=mod=ortalama)"
   ]
  },
  {
   "cell_type": "markdown",
   "id": "e2e079bb-97be-44ba-9030-e8db78da6d79",
   "metadata": {},
   "source": [
    "**BASIKLIK**<br><br>\n",
    "Dağılımın basıklığını/sivriliğini gösterir.<br>\n",
    "* B.K = 3 ise -----> **Dağılım Standart Normal Dağılıma Uygundur.**\n",
    "* B.K > 3 ise -----> **Dağılım Sivridir.**\n",
    "* B.K < 3 ise -----> **Dağılım Basıktır(yayvan).**"
   ]
  },
  {
   "cell_type": "markdown",
   "id": "7b68f740-f103-48cf-8f9a-eeff216b8576",
   "metadata": {},
   "source": [
    "**KOVARYANS :** İki değişken arasındaki **ilişkinin değişkenlik** ölçüsüdür.\n",
    "> **cov(X,Y) = ∑[(X-E[X])(Y-E[Y])]/(n-1)**"
   ]
  },
  {
   "cell_type": "markdown",
   "id": "846106fb-0ddc-41b7-a0e2-86aac3f18c57",
   "metadata": {},
   "source": [
    "**KORELASYON :** İki değişken arasındaki **ilişkiyi**, ilişkinin anlamlı olup olmadığını, ilişkinin şiddetini ve yönünü ifade eden istatistiksel bir tekniktir."
   ]
  },
  {
   "cell_type": "markdown",
   "id": "afa2b5db-7bde-4452-bff9-b5a43988aa75",
   "metadata": {},
   "source": [
    "[Kovaryans&Korelasyon](https://piyasarehberi.org/yatirim/portfoy-yonetimi/139-kovaryans-ve-korelasyon-nedir)\n",
    "<-- matematiksel bilgiler için"
   ]
  },
  {
   "cell_type": "code",
   "execution_count": 59,
   "id": "442006c5-ff62-4400-843d-694c362e62b9",
   "metadata": {},
   "outputs": [
    {
     "data": {
      "text/html": [
       "<div>\n",
       "<style scoped>\n",
       "    .dataframe tbody tr th:only-of-type {\n",
       "        vertical-align: middle;\n",
       "    }\n",
       "\n",
       "    .dataframe tbody tr th {\n",
       "        vertical-align: top;\n",
       "    }\n",
       "\n",
       "    .dataframe thead th {\n",
       "        text-align: right;\n",
       "    }\n",
       "</style>\n",
       "<table border=\"1\" class=\"dataframe\">\n",
       "  <thead>\n",
       "    <tr style=\"text-align: right;\">\n",
       "      <th></th>\n",
       "      <th>total_bill</th>\n",
       "      <th>tip</th>\n",
       "      <th>sex</th>\n",
       "      <th>smoker</th>\n",
       "      <th>day</th>\n",
       "      <th>time</th>\n",
       "      <th>size</th>\n",
       "    </tr>\n",
       "  </thead>\n",
       "  <tbody>\n",
       "    <tr>\n",
       "      <th>0</th>\n",
       "      <td>16.99</td>\n",
       "      <td>1.01</td>\n",
       "      <td>Female</td>\n",
       "      <td>No</td>\n",
       "      <td>Sun</td>\n",
       "      <td>Dinner</td>\n",
       "      <td>2</td>\n",
       "    </tr>\n",
       "    <tr>\n",
       "      <th>1</th>\n",
       "      <td>10.34</td>\n",
       "      <td>1.66</td>\n",
       "      <td>Male</td>\n",
       "      <td>No</td>\n",
       "      <td>Sun</td>\n",
       "      <td>Dinner</td>\n",
       "      <td>3</td>\n",
       "    </tr>\n",
       "    <tr>\n",
       "      <th>2</th>\n",
       "      <td>21.01</td>\n",
       "      <td>3.50</td>\n",
       "      <td>Male</td>\n",
       "      <td>No</td>\n",
       "      <td>Sun</td>\n",
       "      <td>Dinner</td>\n",
       "      <td>3</td>\n",
       "    </tr>\n",
       "    <tr>\n",
       "      <th>3</th>\n",
       "      <td>23.68</td>\n",
       "      <td>3.31</td>\n",
       "      <td>Male</td>\n",
       "      <td>No</td>\n",
       "      <td>Sun</td>\n",
       "      <td>Dinner</td>\n",
       "      <td>2</td>\n",
       "    </tr>\n",
       "    <tr>\n",
       "      <th>4</th>\n",
       "      <td>24.59</td>\n",
       "      <td>3.61</td>\n",
       "      <td>Female</td>\n",
       "      <td>No</td>\n",
       "      <td>Sun</td>\n",
       "      <td>Dinner</td>\n",
       "      <td>4</td>\n",
       "    </tr>\n",
       "  </tbody>\n",
       "</table>\n",
       "</div>"
      ],
      "text/plain": [
       "   total_bill   tip     sex smoker  day    time  size\n",
       "0       16.99  1.01  Female     No  Sun  Dinner     2\n",
       "1       10.34  1.66    Male     No  Sun  Dinner     3\n",
       "2       21.01  3.50    Male     No  Sun  Dinner     3\n",
       "3       23.68  3.31    Male     No  Sun  Dinner     2\n",
       "4       24.59  3.61  Female     No  Sun  Dinner     4"
      ]
     },
     "execution_count": 59,
     "metadata": {},
     "output_type": "execute_result"
    }
   ],
   "source": [
    "import seaborn as sns\n",
    "tips = sns.load_dataset(\"tips\")\n",
    "dataframe = tips.copy()\n",
    "dataframe.head()"
   ]
  },
  {
   "cell_type": "code",
   "execution_count": 60,
   "id": "3ab234ed-bd91-4cbe-9593-4d23a81998f0",
   "metadata": {},
   "outputs": [
    {
     "data": {
      "text/html": [
       "<div>\n",
       "<style scoped>\n",
       "    .dataframe tbody tr th:only-of-type {\n",
       "        vertical-align: middle;\n",
       "    }\n",
       "\n",
       "    .dataframe tbody tr th {\n",
       "        vertical-align: top;\n",
       "    }\n",
       "\n",
       "    .dataframe thead th {\n",
       "        text-align: right;\n",
       "    }\n",
       "</style>\n",
       "<table border=\"1\" class=\"dataframe\">\n",
       "  <thead>\n",
       "    <tr style=\"text-align: right;\">\n",
       "      <th></th>\n",
       "      <th>count</th>\n",
       "      <th>mean</th>\n",
       "      <th>std</th>\n",
       "      <th>min</th>\n",
       "      <th>25%</th>\n",
       "      <th>50%</th>\n",
       "      <th>75%</th>\n",
       "      <th>max</th>\n",
       "    </tr>\n",
       "  </thead>\n",
       "  <tbody>\n",
       "    <tr>\n",
       "      <th>total_bill</th>\n",
       "      <td>244.0</td>\n",
       "      <td>19.785943</td>\n",
       "      <td>8.902412</td>\n",
       "      <td>3.07</td>\n",
       "      <td>13.3475</td>\n",
       "      <td>17.795</td>\n",
       "      <td>24.1275</td>\n",
       "      <td>50.81</td>\n",
       "    </tr>\n",
       "    <tr>\n",
       "      <th>tip</th>\n",
       "      <td>244.0</td>\n",
       "      <td>2.998279</td>\n",
       "      <td>1.383638</td>\n",
       "      <td>1.00</td>\n",
       "      <td>2.0000</td>\n",
       "      <td>2.900</td>\n",
       "      <td>3.5625</td>\n",
       "      <td>10.00</td>\n",
       "    </tr>\n",
       "    <tr>\n",
       "      <th>size</th>\n",
       "      <td>244.0</td>\n",
       "      <td>2.569672</td>\n",
       "      <td>0.951100</td>\n",
       "      <td>1.00</td>\n",
       "      <td>2.0000</td>\n",
       "      <td>2.000</td>\n",
       "      <td>3.0000</td>\n",
       "      <td>6.00</td>\n",
       "    </tr>\n",
       "  </tbody>\n",
       "</table>\n",
       "</div>"
      ],
      "text/plain": [
       "            count       mean       std   min      25%     50%      75%    max\n",
       "total_bill  244.0  19.785943  8.902412  3.07  13.3475  17.795  24.1275  50.81\n",
       "tip         244.0   2.998279  1.383638  1.00   2.0000   2.900   3.5625  10.00\n",
       "size        244.0   2.569672  0.951100  1.00   2.0000   2.000   3.0000   6.00"
      ]
     },
     "execution_count": 60,
     "metadata": {},
     "output_type": "execute_result"
    }
   ],
   "source": [
    "dataframe.describe().T"
   ]
  },
  {
   "cell_type": "code",
   "execution_count": 61,
   "id": "f7ae068a-8433-460b-b1aa-05e7eca63b43",
   "metadata": {},
   "outputs": [
    {
     "data": {
      "text/plain": [
       "total_bill     float64\n",
       "tip            float64\n",
       "sex           category\n",
       "smoker        category\n",
       "day           category\n",
       "time          category\n",
       "size             int64\n",
       "dtype: object"
      ]
     },
     "execution_count": 61,
     "metadata": {},
     "output_type": "execute_result"
    }
   ],
   "source": [
    "dataframe.dtypes"
   ]
  },
  {
   "cell_type": "code",
   "execution_count": 62,
   "id": "a9dc8ec2-03ae-4630-afab-8064cb395247",
   "metadata": {
    "tags": []
   },
   "outputs": [
    {
     "name": "stdout",
     "output_type": "stream",
     "text": [
      "Requirement already satisfied: researchpy in c:\\users\\dogukan\\anaconda3\\lib\\site-packages (0.3.5)\n",
      "Requirement already satisfied: numpy in c:\\users\\dogukan\\anaconda3\\lib\\site-packages (from researchpy) (1.21.5)\n",
      "Requirement already satisfied: statsmodels in c:\\users\\dogukan\\anaconda3\\lib\\site-packages (from researchpy) (0.13.2)\n",
      "Requirement already satisfied: patsy in c:\\users\\dogukan\\anaconda3\\lib\\site-packages (from researchpy) (0.5.2)\n",
      "Requirement already satisfied: pandas in c:\\users\\dogukan\\anaconda3\\lib\\site-packages (from researchpy) (1.4.4)\n",
      "Requirement already satisfied: scipy in c:\\users\\dogukan\\anaconda3\\lib\\site-packages (from researchpy) (1.9.1)\n",
      "Requirement already satisfied: pytz>=2020.1 in c:\\users\\dogukan\\anaconda3\\lib\\site-packages (from pandas->researchpy) (2022.1)\n",
      "Requirement already satisfied: python-dateutil>=2.8.1 in c:\\users\\dogukan\\anaconda3\\lib\\site-packages (from pandas->researchpy) (2.8.2)\n",
      "Requirement already satisfied: six in c:\\users\\dogukan\\anaconda3\\lib\\site-packages (from patsy->researchpy) (1.16.0)\n",
      "Requirement already satisfied: packaging>=21.3 in c:\\users\\dogukan\\anaconda3\\lib\\site-packages (from statsmodels->researchpy) (21.3)\n",
      "Requirement already satisfied: pyparsing!=3.0.5,>=2.0.2 in c:\\users\\dogukan\\anaconda3\\lib\\site-packages (from packaging>=21.3->statsmodels->researchpy) (3.0.9)\n"
     ]
    }
   ],
   "source": [
    "!pip install researchpy\n",
    "import researchpy as rp"
   ]
  },
  {
   "cell_type": "code",
   "execution_count": 12,
   "id": "b5a75153-b6de-4483-a472-c190c9e1650e",
   "metadata": {},
   "outputs": [
    {
     "name": "stdout",
     "output_type": "stream",
     "text": [
      "\n",
      "\n"
     ]
    },
    {
     "data": {
      "text/html": [
       "<div>\n",
       "<style scoped>\n",
       "    .dataframe tbody tr th:only-of-type {\n",
       "        vertical-align: middle;\n",
       "    }\n",
       "\n",
       "    .dataframe tbody tr th {\n",
       "        vertical-align: top;\n",
       "    }\n",
       "\n",
       "    .dataframe thead th {\n",
       "        text-align: right;\n",
       "    }\n",
       "</style>\n",
       "<table border=\"1\" class=\"dataframe\">\n",
       "  <thead>\n",
       "    <tr style=\"text-align: right;\">\n",
       "      <th></th>\n",
       "      <th>Variable</th>\n",
       "      <th>N</th>\n",
       "      <th>Mean</th>\n",
       "      <th>SD</th>\n",
       "      <th>SE</th>\n",
       "      <th>95% Conf.</th>\n",
       "      <th>Interval</th>\n",
       "    </tr>\n",
       "  </thead>\n",
       "  <tbody>\n",
       "    <tr>\n",
       "      <th>0</th>\n",
       "      <td>total_bill</td>\n",
       "      <td>244.0</td>\n",
       "      <td>19.7859</td>\n",
       "      <td>8.9024</td>\n",
       "      <td>0.5699</td>\n",
       "      <td>18.6633</td>\n",
       "      <td>20.9086</td>\n",
       "    </tr>\n",
       "    <tr>\n",
       "      <th>1</th>\n",
       "      <td>tip</td>\n",
       "      <td>244.0</td>\n",
       "      <td>2.9983</td>\n",
       "      <td>1.3836</td>\n",
       "      <td>0.0886</td>\n",
       "      <td>2.8238</td>\n",
       "      <td>3.1728</td>\n",
       "    </tr>\n",
       "    <tr>\n",
       "      <th>2</th>\n",
       "      <td>size</td>\n",
       "      <td>244.0</td>\n",
       "      <td>2.5697</td>\n",
       "      <td>0.9511</td>\n",
       "      <td>0.0609</td>\n",
       "      <td>2.4497</td>\n",
       "      <td>2.6896</td>\n",
       "    </tr>\n",
       "  </tbody>\n",
       "</table>\n",
       "</div>"
      ],
      "text/plain": [
       "     Variable      N     Mean      SD      SE  95% Conf.  Interval\n",
       "0  total_bill  244.0  19.7859  8.9024  0.5699    18.6633   20.9086\n",
       "1         tip  244.0   2.9983  1.3836  0.0886     2.8238    3.1728\n",
       "2        size  244.0   2.5697  0.9511  0.0609     2.4497    2.6896"
      ]
     },
     "execution_count": 12,
     "metadata": {},
     "output_type": "execute_result"
    }
   ],
   "source": [
    "# sayısal değişkenler için\n",
    "rp.summary_cont(dataframe[[\"total_bill\",\"tip\",\"size\"]])\n",
    "\n",
    "# N: Gözlem Sayıları , SD: Standart Sapması , SE: Standart Hatası , Interval: Güven Aralıkları"
   ]
  },
  {
   "cell_type": "code",
   "execution_count": 75,
   "id": "5af6ae99-bd3f-472b-b7a4-462f51f49f80",
   "metadata": {},
   "outputs": [
    {
     "name": "stdout",
     "output_type": "stream",
     "text": [
      "\n",
      "\n"
     ]
    },
    {
     "data": {
      "text/html": [
       "<div>\n",
       "<style scoped>\n",
       "    .dataframe tbody tr th:only-of-type {\n",
       "        vertical-align: middle;\n",
       "    }\n",
       "\n",
       "    .dataframe tbody tr th {\n",
       "        vertical-align: top;\n",
       "    }\n",
       "\n",
       "    .dataframe thead th {\n",
       "        text-align: right;\n",
       "    }\n",
       "</style>\n",
       "<table border=\"1\" class=\"dataframe\">\n",
       "  <thead>\n",
       "    <tr style=\"text-align: right;\">\n",
       "      <th></th>\n",
       "      <th>Variable</th>\n",
       "      <th>N</th>\n",
       "      <th>Mean</th>\n",
       "      <th>SD</th>\n",
       "      <th>SE</th>\n",
       "      <th>95% Conf.</th>\n",
       "      <th>Interval</th>\n",
       "    </tr>\n",
       "  </thead>\n",
       "  <tbody>\n",
       "    <tr>\n",
       "      <th>0</th>\n",
       "      <td>total_bill</td>\n",
       "      <td>244.0</td>\n",
       "      <td>19.7859</td>\n",
       "      <td>8.9024</td>\n",
       "      <td>0.5699</td>\n",
       "      <td>18.6633</td>\n",
       "      <td>20.9086</td>\n",
       "    </tr>\n",
       "    <tr>\n",
       "      <th>1</th>\n",
       "      <td>tip</td>\n",
       "      <td>244.0</td>\n",
       "      <td>2.9983</td>\n",
       "      <td>1.3836</td>\n",
       "      <td>0.0886</td>\n",
       "      <td>2.8238</td>\n",
       "      <td>3.1728</td>\n",
       "    </tr>\n",
       "    <tr>\n",
       "      <th>2</th>\n",
       "      <td>size</td>\n",
       "      <td>244.0</td>\n",
       "      <td>2.5697</td>\n",
       "      <td>0.9511</td>\n",
       "      <td>0.0609</td>\n",
       "      <td>2.4497</td>\n",
       "      <td>2.6896</td>\n",
       "    </tr>\n",
       "  </tbody>\n",
       "</table>\n",
       "</div>"
      ],
      "text/plain": [
       "     Variable      N     Mean      SD      SE  95% Conf.  Interval\n",
       "0  total_bill  244.0  19.7859  8.9024  0.5699    18.6633   20.9086\n",
       "1         tip  244.0   2.9983  1.3836  0.0886     2.8238    3.1728\n",
       "2        size  244.0   2.5697  0.9511  0.0609     2.4497    2.6896"
      ]
     },
     "execution_count": 75,
     "metadata": {},
     "output_type": "execute_result"
    }
   ],
   "source": [
    "# PRATİK YOL !!!\n",
    "rp.summary_cont(dataframe.select_dtypes(include = [\"float64\", \"int64\"]))\n",
    "\n",
    "\n",
    "#Değişken adını, toplam eksik olmayan gözlem sayısını(N), standart sapmayı, standart hatayı ve \n",
    "#%95 güven aralığını içeren güzel bir veri tablosunu Pandas DataFrame olarak döndürür. "
   ]
  },
  {
   "cell_type": "code",
   "execution_count": 66,
   "id": "622cae69-f9be-46cf-ae18-5a6843d8b31a",
   "metadata": {},
   "outputs": [
    {
     "data": {
      "text/html": [
       "<div>\n",
       "<style scoped>\n",
       "    .dataframe tbody tr th:only-of-type {\n",
       "        vertical-align: middle;\n",
       "    }\n",
       "\n",
       "    .dataframe tbody tr th {\n",
       "        vertical-align: top;\n",
       "    }\n",
       "\n",
       "    .dataframe thead th {\n",
       "        text-align: right;\n",
       "    }\n",
       "</style>\n",
       "<table border=\"1\" class=\"dataframe\">\n",
       "  <thead>\n",
       "    <tr style=\"text-align: right;\">\n",
       "      <th></th>\n",
       "      <th>Variable</th>\n",
       "      <th>Outcome</th>\n",
       "      <th>Count</th>\n",
       "      <th>Percent</th>\n",
       "    </tr>\n",
       "  </thead>\n",
       "  <tbody>\n",
       "    <tr>\n",
       "      <th>0</th>\n",
       "      <td>sex</td>\n",
       "      <td>Male</td>\n",
       "      <td>157</td>\n",
       "      <td>64.34</td>\n",
       "    </tr>\n",
       "    <tr>\n",
       "      <th>1</th>\n",
       "      <td></td>\n",
       "      <td>Female</td>\n",
       "      <td>87</td>\n",
       "      <td>35.66</td>\n",
       "    </tr>\n",
       "    <tr>\n",
       "      <th>2</th>\n",
       "      <td>smoker</td>\n",
       "      <td>No</td>\n",
       "      <td>151</td>\n",
       "      <td>61.89</td>\n",
       "    </tr>\n",
       "    <tr>\n",
       "      <th>3</th>\n",
       "      <td></td>\n",
       "      <td>Yes</td>\n",
       "      <td>93</td>\n",
       "      <td>38.11</td>\n",
       "    </tr>\n",
       "    <tr>\n",
       "      <th>4</th>\n",
       "      <td>day</td>\n",
       "      <td>Sat</td>\n",
       "      <td>87</td>\n",
       "      <td>35.66</td>\n",
       "    </tr>\n",
       "    <tr>\n",
       "      <th>5</th>\n",
       "      <td></td>\n",
       "      <td>Sun</td>\n",
       "      <td>76</td>\n",
       "      <td>31.15</td>\n",
       "    </tr>\n",
       "    <tr>\n",
       "      <th>6</th>\n",
       "      <td></td>\n",
       "      <td>Thur</td>\n",
       "      <td>62</td>\n",
       "      <td>25.41</td>\n",
       "    </tr>\n",
       "    <tr>\n",
       "      <th>7</th>\n",
       "      <td></td>\n",
       "      <td>Fri</td>\n",
       "      <td>19</td>\n",
       "      <td>7.79</td>\n",
       "    </tr>\n",
       "  </tbody>\n",
       "</table>\n",
       "</div>"
      ],
      "text/plain": [
       "  Variable Outcome  Count  Percent\n",
       "0      sex    Male    157    64.34\n",
       "1           Female     87    35.66\n",
       "2   smoker      No    151    61.89\n",
       "3              Yes     93    38.11\n",
       "4      day     Sat     87    35.66\n",
       "5              Sun     76    31.15\n",
       "6             Thur     62    25.41\n",
       "7              Fri     19     7.79"
      ]
     },
     "execution_count": 74,
     "metadata": {},
     "output_type": "execute_result"
    }
   ],
   "source": [
    "#kategorik değişkenler için\n",
    "rp.summary_cat(dataframe[[\"sex\",\"smoker\",\"day\"]])\n",
    "\n",
    "\n",
    "#Her kategorinin sayılarını ve yüzdelerini içeren bir veri tablosunu Pandas DataFrame olarak döndürür.\n",
    "\n",
    "# percent : yüzdelik"
   ]
  },
  {
   "cell_type": "code",
   "execution_count": 18,
   "id": "7a51170d-b70c-4de8-90df-9567428de901",
   "metadata": {},
   "outputs": [
    {
     "data": {
      "text/html": [
       "<div>\n",
       "<style scoped>\n",
       "    .dataframe tbody tr th:only-of-type {\n",
       "        vertical-align: middle;\n",
       "    }\n",
       "\n",
       "    .dataframe tbody tr th {\n",
       "        vertical-align: top;\n",
       "    }\n",
       "\n",
       "    .dataframe thead th {\n",
       "        text-align: right;\n",
       "    }\n",
       "</style>\n",
       "<table border=\"1\" class=\"dataframe\">\n",
       "  <thead>\n",
       "    <tr style=\"text-align: right;\">\n",
       "      <th></th>\n",
       "      <th>Variable</th>\n",
       "      <th>Outcome</th>\n",
       "      <th>Count</th>\n",
       "      <th>Percent</th>\n",
       "    </tr>\n",
       "  </thead>\n",
       "  <tbody>\n",
       "    <tr>\n",
       "      <th>0</th>\n",
       "      <td>sex</td>\n",
       "      <td>Male</td>\n",
       "      <td>157</td>\n",
       "      <td>64.34</td>\n",
       "    </tr>\n",
       "    <tr>\n",
       "      <th>1</th>\n",
       "      <td></td>\n",
       "      <td>Female</td>\n",
       "      <td>87</td>\n",
       "      <td>35.66</td>\n",
       "    </tr>\n",
       "    <tr>\n",
       "      <th>2</th>\n",
       "      <td>smoker</td>\n",
       "      <td>No</td>\n",
       "      <td>151</td>\n",
       "      <td>61.89</td>\n",
       "    </tr>\n",
       "    <tr>\n",
       "      <th>3</th>\n",
       "      <td></td>\n",
       "      <td>Yes</td>\n",
       "      <td>93</td>\n",
       "      <td>38.11</td>\n",
       "    </tr>\n",
       "    <tr>\n",
       "      <th>4</th>\n",
       "      <td>day</td>\n",
       "      <td>Sat</td>\n",
       "      <td>87</td>\n",
       "      <td>35.66</td>\n",
       "    </tr>\n",
       "    <tr>\n",
       "      <th>5</th>\n",
       "      <td></td>\n",
       "      <td>Sun</td>\n",
       "      <td>76</td>\n",
       "      <td>31.15</td>\n",
       "    </tr>\n",
       "    <tr>\n",
       "      <th>6</th>\n",
       "      <td></td>\n",
       "      <td>Thur</td>\n",
       "      <td>62</td>\n",
       "      <td>25.41</td>\n",
       "    </tr>\n",
       "    <tr>\n",
       "      <th>7</th>\n",
       "      <td></td>\n",
       "      <td>Fri</td>\n",
       "      <td>19</td>\n",
       "      <td>7.79</td>\n",
       "    </tr>\n",
       "    <tr>\n",
       "      <th>8</th>\n",
       "      <td>time</td>\n",
       "      <td>Dinner</td>\n",
       "      <td>176</td>\n",
       "      <td>72.13</td>\n",
       "    </tr>\n",
       "    <tr>\n",
       "      <th>9</th>\n",
       "      <td></td>\n",
       "      <td>Lunch</td>\n",
       "      <td>68</td>\n",
       "      <td>27.87</td>\n",
       "    </tr>\n",
       "  </tbody>\n",
       "</table>\n",
       "</div>"
      ],
      "text/plain": [
       "  Variable Outcome  Count  Percent\n",
       "0      sex    Male    157    64.34\n",
       "1           Female     87    35.66\n",
       "2   smoker      No    151    61.89\n",
       "3              Yes     93    38.11\n",
       "4      day     Sat     87    35.66\n",
       "5              Sun     76    31.15\n",
       "6             Thur     62    25.41\n",
       "7              Fri     19     7.79\n",
       "8     time  Dinner    176    72.13\n",
       "9            Lunch     68    27.87"
      ]
     },
     "execution_count": 18,
     "metadata": {},
     "output_type": "execute_result"
    }
   ],
   "source": [
    "# PRATİK YOL !!!\n",
    "rp.summary_cat(dataframe.select_dtypes(include = [\"category\"]))"
   ]
  },
  {
   "cell_type": "markdown",
   "id": "459ca053-d101-4261-9865-41f30c7fd456",
   "metadata": {},
   "source": [
    "**Kovaryans nasıl yorumlanır?**<br>\n",
    "Değerler şu şekilde yorumlanır:<br> **Pozitif kovaryans :** İki değişkenin aynı yönde hareket etme eğiliminde olduğunu gösterir.<br> **Negatif kovaryans :** İki değişkenin ters yönde hareket etme eğiliminde olduğunu ortaya çıkarır."
   ]
  },
  {
   "cell_type": "code",
   "execution_count": 19,
   "id": "0b4ff793-c3c5-4cc0-99e2-fe99a5bd0ca8",
   "metadata": {},
   "outputs": [
    {
     "data": {
      "text/html": [
       "<div>\n",
       "<style scoped>\n",
       "    .dataframe tbody tr th:only-of-type {\n",
       "        vertical-align: middle;\n",
       "    }\n",
       "\n",
       "    .dataframe tbody tr th {\n",
       "        vertical-align: top;\n",
       "    }\n",
       "\n",
       "    .dataframe thead th {\n",
       "        text-align: right;\n",
       "    }\n",
       "</style>\n",
       "<table border=\"1\" class=\"dataframe\">\n",
       "  <thead>\n",
       "    <tr style=\"text-align: right;\">\n",
       "      <th></th>\n",
       "      <th>tip</th>\n",
       "      <th>total_bill</th>\n",
       "    </tr>\n",
       "  </thead>\n",
       "  <tbody>\n",
       "    <tr>\n",
       "      <th>tip</th>\n",
       "      <td>1.914455</td>\n",
       "      <td>8.323502</td>\n",
       "    </tr>\n",
       "    <tr>\n",
       "      <th>total_bill</th>\n",
       "      <td>8.323502</td>\n",
       "      <td>79.252939</td>\n",
       "    </tr>\n",
       "  </tbody>\n",
       "</table>\n",
       "</div>"
      ],
      "text/plain": [
       "                 tip  total_bill\n",
       "tip         1.914455    8.323502\n",
       "total_bill  8.323502   79.252939"
      ]
     },
     "execution_count": 19,
     "metadata": {},
     "output_type": "execute_result"
    }
   ],
   "source": [
    "dataframe[[\"tip\",\"total_bill\"]].cov()\n",
    "# aşağıdaki dataframe'de görüldüğü gibi değişkenlerin kovaryans değeri pozitifse pozitif bağ vardır yani aynı yönde hareket ederler.\n",
    "# kovaryans değeri negatifse iki değişken arasında negatif bağ vardır yani ters yönde hareket ederler."
   ]
  },
  {
   "cell_type": "code",
   "execution_count": 81,
   "id": "5e200a90-696d-40b6-9eba-464cbd7dcd31",
   "metadata": {},
   "outputs": [
    {
     "data": {
      "text/plain": [
       "Text(0.5, 1.0, 'kovaryans yorumlanması')"
      ]
     },
     "execution_count": 81,
     "metadata": {},
     "output_type": "execute_result"
    },
    {
     "data": {
      "image/png": "[encoded data removed]",
      "text/plain": [
       "<Figure size 640x480 with 1 Axes>"
      ]
     },
     "metadata": {},
     "output_type": "display_data"
    }
   ],
   "source": [
    "import seaborn as sns\n",
    "sns.scatterplot(data=dataframe,x=\"tip\",y=\"total_bill\").set_title(\"kovaryans yorumlanması\")"
   ]
  },
  {
   "cell_type": "markdown",
   "id": "5e2c6aeb-fd48-407a-b761-31538dbe4695",
   "metadata": {},
   "source": [
    "**Korelasyon, bir değişkendeki bir değişikliğin diğerini nasıl etkileyeceğini tanımlar, kovaryans ise iki maddenin birlikte nasıl değiştiğini tanımlar.**"
   ]
  },
  {
   "cell_type": "code",
   "execution_count": 90,
   "id": "2404e384-99ff-4f49-8548-0cf61f924c10",
   "metadata": {},
   "outputs": [
    {
     "data": {
      "text/html": [
       "<div>\n",
       "<style scoped>\n",
       "    .dataframe tbody tr th:only-of-type {\n",
       "        vertical-align: middle;\n",
       "    }\n",
       "\n",
       "    .dataframe tbody tr th {\n",
       "        vertical-align: top;\n",
       "    }\n",
       "\n",
       "    .dataframe thead th {\n",
       "        text-align: right;\n",
       "    }\n",
       "</style>\n",
       "<table border=\"1\" class=\"dataframe\">\n",
       "  <thead>\n",
       "    <tr style=\"text-align: right;\">\n",
       "      <th></th>\n",
       "      <th>tip</th>\n",
       "      <th>total_bill</th>\n",
       "    </tr>\n",
       "  </thead>\n",
       "  <tbody>\n",
       "    <tr>\n",
       "      <th>tip</th>\n",
       "      <td>1.000000</td>\n",
       "      <td>0.675734</td>\n",
       "    </tr>\n",
       "    <tr>\n",
       "      <th>total_bill</th>\n",
       "      <td>0.675734</td>\n",
       "      <td>1.000000</td>\n",
       "    </tr>\n",
       "  </tbody>\n",
       "</table>\n",
       "</div>"
      ],
      "text/plain": [
       "                 tip  total_bill\n",
       "tip         1.000000    0.675734\n",
       "total_bill  0.675734    1.000000"
      ]
     },
     "execution_count": 90,
     "metadata": {},
     "output_type": "execute_result"
    }
   ],
   "source": [
    "dataframe[[\"tip\",\"total_bill\"]].corr()\n",
    "# aşağıdaki dataframe'de iki değişkenin arasındaki korelasyon değerinin 0.67 olduğu görülmektedir.\n",
    "# yani 1 e yakın olduğu için aralarındaki bağ kuvvetlidir.\n",
    "# 1 den uzaklaştıkça iki değişken arasındaki bağ zayıflar.\n",
    "# korelasyon katsayısı 1 ise pozitif bağ, -1 ise negatif bağ'dan bahsedebiliriz.\n",
    "# korelasyon katsayısı -1'e ne kadar yakınsa değişkenler de birbirlerinden o kadar ters yönde hareket ederler."
   ]
  },
  {
   "cell_type": "markdown",
   "id": "48398806-f7d6-4640-9b5d-8fc0dc8bcb9f",
   "metadata": {},
   "source": [
    "## **GÜVEN ARALIĞI**"
   ]
  },
  {
   "cell_type": "code",
   "execution_count": 96,
   "id": "4bab4047-332f-4345-9e8c-1581eb773a66",
   "metadata": {},
   "outputs": [],
   "source": [
    "import numpy as np\n",
    "fiyatlar = np.random.randint(10,110,1000)"
   ]
  },
  {
   "cell_type": "code",
   "execution_count": 97,
   "id": "66399f03-922b-47a3-b7c4-04045175dfde",
   "metadata": {},
   "outputs": [
    {
     "data": {
      "text/plain": [
       "58.42"
      ]
     },
     "execution_count": 97,
     "metadata": {},
     "output_type": "execute_result"
    }
   ],
   "source": [
    "a.mean()"
   ]
  },
  {
   "cell_type": "code",
   "execution_count": 98,
   "id": "a8db07af-d247-40ec-812e-e8444ae688da",
   "metadata": {},
   "outputs": [
    {
     "data": {
      "text/plain": [
       "(56.96348261552657, 60.49851738447343)"
      ]
     },
     "execution_count": 98,
     "metadata": {},
     "output_type": "execute_result"
    }
   ],
   "source": [
    "import statsmodels.stats.api as sms\n",
    "sms.DescrStatsW(fiyatlar).tconfint_mean()\n",
    "\n",
    "# satılacak ürün için kullanıcıların %95 'inin ödemeye göze aldığı fiyat aralığı aşağıdaki değer aralığıdır."
   ]
  }
 ],
 "metadata": {
  "kernelspec": {
   "display_name": "Python 3 (ipykernel)",
   "language": "python",
   "name": "python3"
  },
  "language_info": {
   "codemirror_mode": {
    "name": "ipython",
    "version": 3
   },
   "file_extension": ".py",
   "mimetype": "text/x-python",
   "name": "python",
   "nbconvert_exporter": "python",
   "pygments_lexer": "ipython3",
   "version": "3.9.13"
  }
 },
 "nbformat": 4,
 "nbformat_minor": 5
}
