{
 "cells": [
  {
   "cell_type": "markdown",
   "id": "4ad826a8-b278-414d-928e-083a04504cf1",
   "metadata": {},
   "source": [
    "## **HİPOTEZ TESTİ**"
   ]
  },
  {
   "cell_type": "markdown",
   "id": "2f181f25-f130-4adc-ac5c-9e58330bd06e",
   "metadata": {},
   "source": [
    "> Bir inanışı(bir savı,bir tahmini vs.) test etmek için kullanılan istatistiksel bir tekniktir."
   ]
  },
  {
   "cell_type": "markdown",
   "id": "f92cd569-2160-4259-8dbd-c285db3cccb0",
   "metadata": {},
   "source": [
    "**HİPOTEZ VE TÜRLERİ**\n",
    "* **sıfır hipotez** , <d><i>H</i><sub>0</sub>: <i>μ</i> = <i>50</i></d> (**bilinmeyen anakütle parametresi μ(mu) verilerin ortalaması = 50 dir diye okunur.**),  **yönlü sıfır hipotez:**  <d><i>H</i><sub>0</sub>: <i>μ</i> <= <i>50</i></d> , <d><i>H</i><sub>0</sub>: <i>μ</i> >= <i>50</i></d><br>\n",
    "* **alternatif hipotez** , <d><i>H</i><sub>1</sub>: <i>μ</i> ≠ <i>50</i></d> ,  **yönlü alternatif hipotez:** <d><i>H</i><sub>1</sub>: <i>μ</i> > <i>50</i></d> , <d><i>H</i><sub>1</sub>: <i>μ</i> < <i>50</i></d><br><br>"
   ]
  },
  {
   "cell_type": "markdown",
   "id": "a97019d2-c2bf-4a69-b67b-46235925a75d",
   "metadata": {
    "tags": []
   },
   "source": [
    "**HATA TİPLERİ**\n",
    "\n",
    "[hatatipleri](https://slideplayer.biz.tr/slide/1891035/7/images/17/%28%C3%96rneklem+Sonucu%29+Hipotez+Testi+Sonucundaki+Karar.jpg)"
   ]
  },
  {
   "cell_type": "markdown",
   "id": "89e57a17-d837-43fe-b9d2-0f145b6fcd48",
   "metadata": {},
   "source": [
    "**Test İstatistiği:**\n",
    "\n",
    "${\\displaystyle t={\\frac {{\\bar {x}}-\\mu _{0}}{\\frac {s}{\\sqrt {n}}}}}$"
   ]
  },
  {
   "cell_type": "markdown",
   "id": "930441b7-27e6-4271-983b-425710e4b3a0",
   "metadata": {},
   "source": [
    "**P-VALUE**\n",
    "\n",
    "!!! a = 0.05 dir.\n",
    "* p<0.05 ise ilgili <d><i>H</i><sub>0</sub> hipotezini reddettiğimiz sonucuna varıcağız."
   ]
  },
  {
   "cell_type": "markdown",
   "id": "bc7c9c09-1383-4443-95ef-a3363def36f4",
   "metadata": {},
   "source": [
    "**HİPOTEZ TESTİ ADIMLARI**\n",
    "* **ADIM-1:** Hipotezlerinin kurulması ve yönlerinin belirlenmesi\n",
    "* **ADIM-2:** Anlamlılık düzeyinin ve tablo değerinin belirlenmesi\n",
    "* **ADIM-3:** Test istatistiğinin belirlenmesi ve test istatistiğinin hesaplanması\n",
    "* **ADIM-4:** Hesaplana test istatistiği ile alfa'ya karşılık gelen tablo değerinni karşılatırılması. Test İstatistiği (Zh) > Tablo Değeri (Zt) ise H0 red\n",
    "* **ADIM-5:** Yorum "
   ]
  },
  {
   "cell_type": "markdown",
   "id": "dbd3d099-6b1a-40cd-8012-e72fa4f66cff",
   "metadata": {},
   "source": [
    "**TEK ÖRNEKLEM T TESTİ:** Örnek ortalamasına ilişkin test yapmak için kullanılır.\n",
    "\n",
    "[test istatistiğinin belirlenmesi](https://slideplayer.biz.tr/slide/2630664/9/images/14/Test+%C4%B0statisti%C4%9Finin+Belirlenmesi.jpg)"
   ]
  },
  {
   "cell_type": "markdown",
   "id": "d9578f80-6223-453c-bff6-5cd41e3d5610",
   "metadata": {},
   "source": [
    "**ÖRNEK --> İŞ UYGULAMASI: Web Sitesinde Geçirilen Sürenin Testi**\n",
    "\n",
    "**Problem:** Web sitemizde geçirilen ortalama süre gerçekten 170 saniye mi ?\n",
    "\n",
    "**Detaylar:**\n",
    "Yazılımlardan elde edilen web sitesinde geçirilen ort.süreler var.\n",
    "Bu veriler incelendiğinde bir yönetici ya da çalışanımız bu değerlerin böyle olmadığına yönelik düşünceler taşıyor ve bu durumu test etmek istiyorlar.\n",
    "\n",
    "<d><i>H</i><sub>0</sub>: <i>μ</i> = <i>170</i></d></br>\n",
    "<d><i>H</i><sub>1</sub>: <i>μ</i> ≠ <i>170</i></d>"
   ]
  },
  {
   "cell_type": "code",
   "execution_count": 1,
   "id": "e82a6887-20fc-477d-8c5b-2480827ddf8a",
   "metadata": {},
   "outputs": [],
   "source": [
    "import numpy as np\n",
    "\n",
    "olcumler = np.array([17, 160, 234, 149, 145, 107, 197, 75, 201, 225, 211, 119, \n",
    "              157, 145, 127, 244, 163, 114, 145,  65, 112, 185, 202, 146,\n",
    "              203, 224, 203, 114, 188, 156, 187, 154, 177, 95, 165, 50, 110, \n",
    "              216, 138, 151, 166, 135, 155, 84, 251, 173, 131, 207, 121, 120])"
   ]
  },
  {
   "cell_type": "code",
   "execution_count": 2,
   "id": "5fcacab5-ab54-4d4c-b00e-69953fb8a9a3",
   "metadata": {},
   "outputs": [
    {
     "data": {
      "text/plain": [
       "array([ 17, 160, 234, 149, 145, 107, 197,  75, 201, 225])"
      ]
     },
     "execution_count": 2,
     "metadata": {},
     "output_type": "execute_result"
    }
   ],
   "source": [
    "olcumler[0:10]"
   ]
  },
  {
   "cell_type": "code",
   "execution_count": 3,
   "id": "6906503d-98c3-47a2-a358-e4781e5e760c",
   "metadata": {},
   "outputs": [],
   "source": [
    "import scipy.stats as stats"
   ]
  },
  {
   "cell_type": "code",
   "execution_count": 4,
   "id": "6c773da4-6168-49e5-b61f-999eb8fcbfdd",
   "metadata": {},
   "outputs": [
    {
     "data": {
      "text/plain": [
       "DescribeResult(nobs=50, minmax=(17, 251), mean=154.38, variance=2578.0363265306123, skewness=-0.32398897278694483, kurtosis=-0.05849823498415985)"
      ]
     },
     "execution_count": 4,
     "metadata": {},
     "output_type": "execute_result"
    }
   ],
   "source": [
    "stats.describe(olcumler)"
   ]
  },
  {
   "cell_type": "markdown",
   "id": "23bb79e3-4955-4601-90a8-052c755e5761",
   "metadata": {},
   "source": [
    "> 154 < 170 den küçüktür \"neden hipotez testi yapıyoruz ?\"\" diyebiliriz. Örnekleme bağlı olarak ortalama değişemez mi ? 154 şansa gelmiş olabilir."
   ]
  },
  {
   "cell_type": "markdown",
   "id": "c81d3a59-9c76-45f6-a37a-4d3e62dc65e2",
   "metadata": {},
   "source": [
    "## --> Shapiro-Wilks Testi"
   ]
  },
  {
   "cell_type": "markdown",
   "id": "5aa059aa-db35-4e45-bd00-9c8c9a28beca",
   "metadata": {},
   "source": [
    "> Veri seti üzerinde yaptığımız bir çok veri analizi verinin normal dağıldığı varsayımına dayanır. **Veri analizine başlamadan önce verimizin normal dağılıma uygun olup olmadığına bakmamızda fayda var. Normallik kontrolü için yaygın olarak kullanılan testlerden birisi de Shapiro-Wilks testidir.**"
   ]
  },
  {
   "cell_type": "markdown",
   "id": "d6a77e2b-a19c-487a-865a-a1b7c13a7e1c",
   "metadata": {},
   "source": [
    "* ELİMİZDEKİ ÖRNEĞİN **NORMALLİK VARSAYIMI**"
   ]
  },
  {
   "cell_type": "markdown",
   "id": "34ac1761-a8f5-46a6-8826-9d177e88708e",
   "metadata": {},
   "source": [
    "**HİPOTEZ TESTİ**\n",
    "\n",
    "H0: Örnek dağılımı ile teorik normal dağılım arasında istatistisel olarak anlamlı bir farklılık yoktur.\n",
    "\n",
    "H1: ......... fark vardır.\n",
    "\n",
    "--> H0' ı reddetmeme ile ilgileniyoruz çünkü bu örnek dağılım örneğidir."
   ]
  },
  {
   "cell_type": "markdown",
   "id": "5057c7fc-a6b3-46b9-9fbf-c6e5c4895970",
   "metadata": {},
   "source": [
    "**ÖNEMLİ !!!** <br>\n",
    "> **p value<0.05 düzeyinde anlamlı ise hipotezi reddedilir ve dağılımın normal olmadığı kararı verilir. <br>Şayet p value>0.05 değeri elde edilmişse hipotezi kabul edilir ve dağılımın normal dağılımdan anlamlı bir farklılık sergilemediği yorumu yapılır.**"
   ]
  },
  {
   "cell_type": "code",
   "execution_count": 5,
   "id": "ea55e1c7-8b89-45a9-b250-a84e5042aad0",
   "metadata": {},
   "outputs": [
    {
     "data": {
      "text/plain": [
       "ShapiroResult(statistic=0.9853101372718811, pvalue=0.7848551869392395)"
      ]
     },
     "execution_count": 5,
     "metadata": {},
     "output_type": "execute_result"
    }
   ],
   "source": [
    "from scipy.stats import shapiro\n",
    "shapiro(olcumler)"
   ]
  },
  {
   "cell_type": "code",
   "execution_count": 6,
   "id": "bd9e93b3-bf96-4cd0-9aac-e48c69c4604f",
   "metadata": {
    "tags": []
   },
   "outputs": [
    {
     "name": "stdout",
     "output_type": "stream",
     "text": [
      "T Hesap İstatistiği: 0.9853101372718811\n",
      "Hesaplanan P-value: 0.7848551869392395\n"
     ]
    }
   ],
   "source": [
    "print(\"T Hesap İstatistiği: \" + str(shapiro(olcumler)[0]))\n",
    "print(\"Hesaplanan P-value: \" + str(shapiro(olcumler)[1]))"
   ]
  },
  {
   "cell_type": "markdown",
   "id": "d7c3518b-506a-4993-8f76-4c0cc7fd84b7",
   "metadata": {},
   "source": [
    "**P-value(0.7848), 0.05 den büyük olduğu için hipotez kabul edilir ve normal dağılım olduğu yorumu yapılır.**<br>\n",
    "**Normal dağılım olduğundan bir sonraki aşama olan Tek Örneklem T testini uygulayabiliriz.**"
   ]
  },
  {
   "cell_type": "markdown",
   "id": "4e0106dc-19a6-46e3-a2db-3b024a8886ff",
   "metadata": {
    "tags": []
   },
   "source": [
    "## --> Hipotez Testinin Uygulanması"
   ]
  },
  {
   "cell_type": "markdown",
   "id": "8124f00a-fe8b-407e-b47c-dee8608c090f",
   "metadata": {},
   "source": [
    "             PARAMETRİK TESTLER\n",
    "                     ↓\n",
    "                     ↓\n",
    "                     ↓\n",
    "                     ↓"
   ]
  },
  {
   "cell_type": "markdown",
   "id": "66936e7f-deaa-4c39-a718-52b2a4c417a7",
   "metadata": {},
   "source": [
    "* TEK ÖRNEKLEM T TESTİ"
   ]
  },
  {
   "cell_type": "code",
   "execution_count": 7,
   "id": "3efd9518-e64a-4cb1-97df-2e7f4827207a",
   "metadata": {},
   "outputs": [
    {
     "data": {
      "text/plain": [
       "Ttest_1sampResult(statistic=-2.1753117985877966, pvalue=0.034460415195071446)"
      ]
     },
     "execution_count": 7,
     "metadata": {},
     "output_type": "execute_result"
    }
   ],
   "source": [
    "stats.ttest_1samp(olcumler, popmean = 170)"
   ]
  },
  {
   "cell_type": "markdown",
   "id": "b55fc2ed-0d5a-453e-80d2-dc62cb3829bf",
   "metadata": {},
   "source": [
    "**Elde etmiş olduğumuz P-value değeri(0.03) , kabul edilebilir hata miktarı olan alfa değeri(0.05)'nden küçük olduğu için H0 hipotezini reddederiz.**"
   ]
  },
  {
   "cell_type": "markdown",
   "id": "8fc85332-a0ac-4faf-b2f2-6b3b77bec18a",
   "metadata": {},
   "source": [
    "H0: Web sitemizde geçirilen ortalama süre 170'tir.\n",
    "H1: .. değiştir\n",
    "\n",
    "H0 hipotezi reddedildiğinden **WEB SİTESİNDE GEÇİRİLEN ORTALAMA SÜRE 170 DEĞİLDİR.** anlamına gelir."
   ]
  },
  {
   "cell_type": "markdown",
   "id": "1ec94f95-9fb3-4356-bd32-a31c0d831d4c",
   "metadata": {},
   "source": [
    "* NONPARAMETRİK TEK ÖRNEKLEM TESTİ <br><br>\n",
    "Önceki parametrik testinde H0 ı reddetmiştik , yani 'Örnek dağılımı ile teorik normal dağılım arasında istatistisel olarak anlamlı bir farklılık vardır' hipotezi olan H1 kanısına varmıştık."
   ]
  },
  {
   "cell_type": "code",
   "execution_count": 8,
   "id": "781b23fe-b173-4f25-ba22-bff09e0ae41c",
   "metadata": {},
   "outputs": [],
   "source": [
    "# Birçok Nonparametrik testi vardır , bunlardan biri de sign_test'dir.\n",
    "from statsmodels.stats.descriptivestats import sign_test"
   ]
  },
  {
   "cell_type": "code",
   "execution_count": 9,
   "id": "6b2ccab1-5fdc-46f8-8ecd-05b663649e0d",
   "metadata": {},
   "outputs": [
    {
     "data": {
      "text/plain": [
       "(-7.0, 0.06490864707227217)"
      ]
     },
     "execution_count": 9,
     "metadata": {},
     "output_type": "execute_result"
    }
   ],
   "source": [
    "sign_test(olcumler, 170)"
   ]
  },
  {
   "cell_type": "markdown",
   "id": "099bcfe0-6e9f-4f9a-b712-f39462bada4e",
   "metadata": {},
   "source": [
    "**0.06 > 0.05 tür ama zaten bizim verilerimiz normallik varsayımla H0 hipotezini reddetmiyorduk. H0 hipotezi doğru olmasaydı direkt Nonparametre testi ile farklı bir sonuç ortaya çıkacaktı.Sonuç olarak testi burada bitirmiş oluyoruz.**"
   ]
  },
  {
   "cell_type": "markdown",
   "id": "72d1f347-8263-4711-9b32-a26b6b76daf8",
   "metadata": {},
   "source": [
    "> Bu iş uygulamasında problem ve veri setini anladık , varsayımları test ettik , hipotezi kurduk ve Nonparametrik hipotezimizi kurup test sonuçlarını değerlendirmiş olduk."
   ]
  },
  {
   "cell_type": "markdown",
   "id": "fa9d2561-c3ad-4e86-90b1-474d070fb31d",
   "metadata": {},
   "source": [
    "## VARYANS ANALİZİ"
   ]
  },
  {
   "cell_type": "markdown",
   "id": "9702ad9a-c3a5-4500-81c0-c1ee3f175eb7",
   "metadata": {},
   "source": [
    "> **İki ya da daha fazla grup ortalaması arasında istatistiksel olarak anlamlı farklılık olup olmadığı öğrenilmek istenildiğinde kullanılır.**"
   ]
  },
  {
   "cell_type": "markdown",
   "id": "2120d5cb-fe0f-4eba-8785-73b7142ed1b5",
   "metadata": {},
   "source": [
    "<d><i>H</i><sub>0</sub>: <i>μ1</i> = <i>μ2</i> = <i>μ3</i> <br>\n",
    "<d><i>H</i><sub>1</sub>: Eşit değillerdir.(en az birisi farklıdır.)"
   ]
  },
  {
   "cell_type": "code",
   "execution_count": 10,
   "id": "94346ebb-3711-468c-821c-d5033b95fe73",
   "metadata": {},
   "outputs": [
    {
     "data": {
      "text/html": [
       "<div>\n",
       "<style scoped>\n",
       "    .dataframe tbody tr th:only-of-type {\n",
       "        vertical-align: middle;\n",
       "    }\n",
       "\n",
       "    .dataframe tbody tr th {\n",
       "        vertical-align: top;\n",
       "    }\n",
       "\n",
       "    .dataframe thead th {\n",
       "        text-align: right;\n",
       "    }\n",
       "</style>\n",
       "<table border=\"1\" class=\"dataframe\">\n",
       "  <thead>\n",
       "    <tr style=\"text-align: right;\">\n",
       "      <th></th>\n",
       "      <th>GRUP_A</th>\n",
       "      <th>GRUP_B</th>\n",
       "      <th>GRUP_C</th>\n",
       "    </tr>\n",
       "  </thead>\n",
       "  <tbody>\n",
       "    <tr>\n",
       "      <th>0</th>\n",
       "      <td>28</td>\n",
       "      <td>31</td>\n",
       "      <td>40</td>\n",
       "    </tr>\n",
       "    <tr>\n",
       "      <th>1</th>\n",
       "      <td>33</td>\n",
       "      <td>32</td>\n",
       "      <td>33</td>\n",
       "    </tr>\n",
       "    <tr>\n",
       "      <th>2</th>\n",
       "      <td>30</td>\n",
       "      <td>30</td>\n",
       "      <td>38</td>\n",
       "    </tr>\n",
       "    <tr>\n",
       "      <th>3</th>\n",
       "      <td>29</td>\n",
       "      <td>30</td>\n",
       "      <td>41</td>\n",
       "    </tr>\n",
       "    <tr>\n",
       "      <th>4</th>\n",
       "      <td>28</td>\n",
       "      <td>33</td>\n",
       "      <td>42</td>\n",
       "    </tr>\n",
       "  </tbody>\n",
       "</table>\n",
       "</div>"
      ],
      "text/plain": [
       "   GRUP_A  GRUP_B  GRUP_C\n",
       "0      28      31      40\n",
       "1      33      32      33\n",
       "2      30      30      38\n",
       "3      29      30      41\n",
       "4      28      33      42"
      ]
     },
     "execution_count": 10,
     "metadata": {},
     "output_type": "execute_result"
    }
   ],
   "source": [
    "import pandas as pd\n",
    "\n",
    "A = pd.DataFrame([28,33,30,29,28,29,27,31,30,32,28,33,25,29,27,31,31,30,31,34,30,32,31,34,28,32,31,28,33,29])\n",
    "\n",
    "B = pd.DataFrame([31,32,30,30,33,32,34,27,36,30,31,30,38,29,30,34,34,31,35,35,33,30,28,29,26,37,31,28,34,33])\n",
    "\n",
    "C = pd.DataFrame([40,33,38,41,42,43,38,35,39,39,36,34,35,40,38,36,39,36,33,35,38,35,40,40,39,38,38,43,40,42])\n",
    "\n",
    "dfs = [A, B, C]\n",
    "\n",
    "ABC = pd.concat(dfs, axis = 1)\n",
    "ABC.columns = [\"GRUP_A\",\"GRUP_B\",\"GRUP_C\"]\n",
    "ABC.head()"
   ]
  },
  {
   "cell_type": "markdown",
   "id": "efb05279-cd75-4add-8565-24d51cef753f",
   "metadata": {},
   "source": [
    "**VARSAYIM KONTROLÜ**"
   ]
  },
  {
   "cell_type": "code",
   "execution_count": 11,
   "id": "13597a43-a363-4a10-b5fb-292400043a7e",
   "metadata": {},
   "outputs": [],
   "source": [
    "from scipy.stats import shapiro\n",
    "from scipy import stats"
   ]
  },
  {
   "cell_type": "code",
   "execution_count": 12,
   "id": "7fe1ff2f-8618-47cf-891d-12c527abb3e0",
   "metadata": {},
   "outputs": [
    {
     "data": {
      "text/plain": [
       "ShapiroResult(statistic=0.969743013381958, pvalue=0.5321670174598694)"
      ]
     },
     "execution_count": 12,
     "metadata": {},
     "output_type": "execute_result"
    }
   ],
   "source": [
    "shapiro(ABC[\"GRUP_A\"])"
   ]
  },
  {
   "cell_type": "code",
   "execution_count": 13,
   "id": "ebc19cad-6d1e-4bdf-91c6-9c52fc81d9ea",
   "metadata": {},
   "outputs": [
    {
     "data": {
      "text/plain": [
       "ShapiroResult(statistic=0.9789853096008301, pvalue=0.7979751229286194)"
      ]
     },
     "execution_count": 13,
     "metadata": {},
     "output_type": "execute_result"
    }
   ],
   "source": [
    "shapiro(ABC[\"GRUP_B\"])"
   ]
  },
  {
   "cell_type": "code",
   "execution_count": 14,
   "id": "5b086181-78c7-4a25-9723-109be8f2670f",
   "metadata": {},
   "outputs": [
    {
     "data": {
      "text/plain": [
       "ShapiroResult(statistic=0.9579201340675354, pvalue=0.273820161819458)"
      ]
     },
     "execution_count": 14,
     "metadata": {},
     "output_type": "execute_result"
    }
   ],
   "source": [
    "shapiro(ABC[\"GRUP_C\"])"
   ]
  },
  {
   "cell_type": "code",
   "execution_count": 15,
   "id": "dde6095e-3478-4a73-b122-4fcac0acc3bf",
   "metadata": {},
   "outputs": [
    {
     "data": {
      "text/plain": [
       "LeveneResult(statistic=1.0267403645055275, pvalue=0.36247110117417064)"
      ]
     },
     "execution_count": 15,
     "metadata": {},
     "output_type": "execute_result"
    }
   ],
   "source": [
    "stats.levene(ABC[\"GRUP_A\"], ABC[\"GRUP_B\"],ABC[\"GRUP_C\"])"
   ]
  },
  {
   "cell_type": "markdown",
   "id": "869df920-b83a-4183-9ec0-99112d610f0f",
   "metadata": {},
   "source": [
    "**HİPOTEZ TESTİ**"
   ]
  },
  {
   "cell_type": "code",
   "execution_count": 16,
   "id": "ef42c259-7cde-416f-a8d6-519da1d8d263",
   "metadata": {},
   "outputs": [],
   "source": [
    "from scipy.stats import f_oneway"
   ]
  },
  {
   "cell_type": "code",
   "execution_count": 17,
   "id": "8a35ef52-be67-4d2b-8a12-0a1df5d7664e",
   "metadata": {},
   "outputs": [
    {
     "data": {
      "text/plain": [
       "F_onewayResult(statistic=74.69278140730431, pvalue=1.3079050746811477e-19)"
      ]
     },
     "execution_count": 17,
     "metadata": {},
     "output_type": "execute_result"
    }
   ],
   "source": [
    "f_oneway(ABC[\"GRUP_A\"], ABC[\"GRUP_B\"],ABC[\"GRUP_C\"])"
   ]
  },
  {
   "cell_type": "code",
   "execution_count": 18,
   "id": "6bc4d1c2-07e0-48a2-bb5a-d3617c8dedbc",
   "metadata": {},
   "outputs": [
    {
     "name": "stdout",
     "output_type": "stream",
     "text": [
      "0.00000\n"
     ]
    }
   ],
   "source": [
    "print('{:.5f}'.format(f_oneway(ABC[\"GRUP_A\"], ABC[\"GRUP_B\"],ABC[\"GRUP_C\"])[1]))"
   ]
  },
  {
   "cell_type": "code",
   "execution_count": 19,
   "id": "5226211e-289b-4de4-85ac-78f6624a8755",
   "metadata": {},
   "outputs": [
    {
     "data": {
      "text/html": [
       "<div>\n",
       "<style scoped>\n",
       "    .dataframe tbody tr th:only-of-type {\n",
       "        vertical-align: middle;\n",
       "    }\n",
       "\n",
       "    .dataframe tbody tr th {\n",
       "        vertical-align: top;\n",
       "    }\n",
       "\n",
       "    .dataframe thead th {\n",
       "        text-align: right;\n",
       "    }\n",
       "</style>\n",
       "<table border=\"1\" class=\"dataframe\">\n",
       "  <thead>\n",
       "    <tr style=\"text-align: right;\">\n",
       "      <th></th>\n",
       "      <th>count</th>\n",
       "      <th>mean</th>\n",
       "      <th>std</th>\n",
       "      <th>min</th>\n",
       "      <th>25%</th>\n",
       "      <th>50%</th>\n",
       "      <th>75%</th>\n",
       "      <th>max</th>\n",
       "    </tr>\n",
       "  </thead>\n",
       "  <tbody>\n",
       "    <tr>\n",
       "      <th>GRUP_A</th>\n",
       "      <td>30.0</td>\n",
       "      <td>30.133333</td>\n",
       "      <td>2.224214</td>\n",
       "      <td>25.0</td>\n",
       "      <td>28.25</td>\n",
       "      <td>30.0</td>\n",
       "      <td>31.75</td>\n",
       "      <td>34.0</td>\n",
       "    </tr>\n",
       "    <tr>\n",
       "      <th>GRUP_B</th>\n",
       "      <td>30.0</td>\n",
       "      <td>31.700000</td>\n",
       "      <td>2.937862</td>\n",
       "      <td>26.0</td>\n",
       "      <td>30.00</td>\n",
       "      <td>31.0</td>\n",
       "      <td>34.00</td>\n",
       "      <td>38.0</td>\n",
       "    </tr>\n",
       "    <tr>\n",
       "      <th>GRUP_C</th>\n",
       "      <td>30.0</td>\n",
       "      <td>38.100000</td>\n",
       "      <td>2.808239</td>\n",
       "      <td>33.0</td>\n",
       "      <td>36.00</td>\n",
       "      <td>38.0</td>\n",
       "      <td>40.00</td>\n",
       "      <td>43.0</td>\n",
       "    </tr>\n",
       "  </tbody>\n",
       "</table>\n",
       "</div>"
      ],
      "text/plain": [
       "        count       mean       std   min    25%   50%    75%   max\n",
       "GRUP_A   30.0  30.133333  2.224214  25.0  28.25  30.0  31.75  34.0\n",
       "GRUP_B   30.0  31.700000  2.937862  26.0  30.00  31.0  34.00  38.0\n",
       "GRUP_C   30.0  38.100000  2.808239  33.0  36.00  38.0  40.00  43.0"
      ]
     },
     "execution_count": 19,
     "metadata": {},
     "output_type": "execute_result"
    }
   ],
   "source": [
    "ABC.describe().T"
   ]
  },
  {
   "cell_type": "markdown",
   "id": "bf747a89-d5b2-4283-addb-95380331a86d",
   "metadata": {},
   "source": [
    "**NONPARAMETRİK HİPOTEZ TESTİ**"
   ]
  },
  {
   "cell_type": "code",
   "execution_count": 20,
   "id": "9c7f54b8-bee0-4606-a127-352315cb613e",
   "metadata": {},
   "outputs": [],
   "source": [
    "from scipy.stats import kruskal"
   ]
  },
  {
   "cell_type": "code",
   "execution_count": 21,
   "id": "0298f72b-0e19-4937-8332-46da3f05f31b",
   "metadata": {},
   "outputs": [
    {
     "data": {
      "text/plain": [
       "KruskalResult(statistic=54.19819735523783, pvalue=1.7022015426175926e-12)"
      ]
     },
     "execution_count": 21,
     "metadata": {},
     "output_type": "execute_result"
    }
   ],
   "source": [
    "kruskal(ABC[\"GRUP_A\"], ABC[\"GRUP_B\"],ABC[\"GRUP_C\"])"
   ]
  },
  {
   "cell_type": "markdown",
   "id": "eebb0084-c66e-4fe1-a409-b6956843c953",
   "metadata": {},
   "source": [
    "## KORELASYON ANALİZİ"
   ]
  },
  {
   "cell_type": "markdown",
   "id": "6a4b53d5-731f-47b6-becf-3836f41b7e3e",
   "metadata": {},
   "source": [
    "Bahşiş veri seti:\n",
    "\n",
    "total_bill: yemeğin toplam fiyatı (bahşiş ve vergi dahil)\n",
    "\n",
    "tip: bahşiş\n",
    "\n",
    "sex: ücreti ödeyen kişinin cinsiyeti (0=male, 1=female)\n",
    "\n",
    "smoker: grupta sigara içen var mı? (0=No, 1=Yes)\n",
    "\n",
    "day: gün (3=Thur, 4=Fri, 5=Sat, 6=Sun)\n",
    "\n",
    "time: ne zaman? (0=Day, 1=Night)\n",
    "\n",
    "size: grupta kaç kişi var?"
   ]
  },
  {
   "cell_type": "code",
   "execution_count": 22,
   "id": "0dc7d584-c9b1-4a90-81ee-93c0c4bebde0",
   "metadata": {},
   "outputs": [
    {
     "data": {
      "text/html": [
       "<div>\n",
       "<style scoped>\n",
       "    .dataframe tbody tr th:only-of-type {\n",
       "        vertical-align: middle;\n",
       "    }\n",
       "\n",
       "    .dataframe tbody tr th {\n",
       "        vertical-align: top;\n",
       "    }\n",
       "\n",
       "    .dataframe thead th {\n",
       "        text-align: right;\n",
       "    }\n",
       "</style>\n",
       "<table border=\"1\" class=\"dataframe\">\n",
       "  <thead>\n",
       "    <tr style=\"text-align: right;\">\n",
       "      <th></th>\n",
       "      <th>total_bill</th>\n",
       "      <th>tip</th>\n",
       "      <th>sex</th>\n",
       "      <th>smoker</th>\n",
       "      <th>day</th>\n",
       "      <th>time</th>\n",
       "      <th>size</th>\n",
       "    </tr>\n",
       "  </thead>\n",
       "  <tbody>\n",
       "    <tr>\n",
       "      <th>0</th>\n",
       "      <td>16.99</td>\n",
       "      <td>1.01</td>\n",
       "      <td>Female</td>\n",
       "      <td>No</td>\n",
       "      <td>Sun</td>\n",
       "      <td>Dinner</td>\n",
       "      <td>2</td>\n",
       "    </tr>\n",
       "    <tr>\n",
       "      <th>1</th>\n",
       "      <td>10.34</td>\n",
       "      <td>1.66</td>\n",
       "      <td>Male</td>\n",
       "      <td>No</td>\n",
       "      <td>Sun</td>\n",
       "      <td>Dinner</td>\n",
       "      <td>3</td>\n",
       "    </tr>\n",
       "    <tr>\n",
       "      <th>2</th>\n",
       "      <td>21.01</td>\n",
       "      <td>3.50</td>\n",
       "      <td>Male</td>\n",
       "      <td>No</td>\n",
       "      <td>Sun</td>\n",
       "      <td>Dinner</td>\n",
       "      <td>3</td>\n",
       "    </tr>\n",
       "    <tr>\n",
       "      <th>3</th>\n",
       "      <td>23.68</td>\n",
       "      <td>3.31</td>\n",
       "      <td>Male</td>\n",
       "      <td>No</td>\n",
       "      <td>Sun</td>\n",
       "      <td>Dinner</td>\n",
       "      <td>2</td>\n",
       "    </tr>\n",
       "    <tr>\n",
       "      <th>4</th>\n",
       "      <td>24.59</td>\n",
       "      <td>3.61</td>\n",
       "      <td>Female</td>\n",
       "      <td>No</td>\n",
       "      <td>Sun</td>\n",
       "      <td>Dinner</td>\n",
       "      <td>4</td>\n",
       "    </tr>\n",
       "  </tbody>\n",
       "</table>\n",
       "</div>"
      ],
      "text/plain": [
       "   total_bill   tip     sex smoker  day    time  size\n",
       "0       16.99  1.01  Female     No  Sun  Dinner     2\n",
       "1       10.34  1.66    Male     No  Sun  Dinner     3\n",
       "2       21.01  3.50    Male     No  Sun  Dinner     3\n",
       "3       23.68  3.31    Male     No  Sun  Dinner     2\n",
       "4       24.59  3.61  Female     No  Sun  Dinner     4"
      ]
     },
     "execution_count": 22,
     "metadata": {},
     "output_type": "execute_result"
    }
   ],
   "source": [
    "import seaborn as sns\n",
    "tips = sns.load_dataset('tips')\n",
    "df = tips.copy()\n",
    "df.head()"
   ]
  },
  {
   "cell_type": "code",
   "execution_count": 23,
   "id": "d2ba0ebc-b07c-46cd-96ec-d671891e2df9",
   "metadata": {},
   "outputs": [],
   "source": [
    "df[\"total_bill\"] = df[\"total_bill\"] - df[\"tip\"]"
   ]
  },
  {
   "cell_type": "code",
   "execution_count": 24,
   "id": "911a8c5a-88a3-49b7-a2e4-535105421f2d",
   "metadata": {},
   "outputs": [
    {
     "data": {
      "text/html": [
       "<div>\n",
       "<style scoped>\n",
       "    .dataframe tbody tr th:only-of-type {\n",
       "        vertical-align: middle;\n",
       "    }\n",
       "\n",
       "    .dataframe tbody tr th {\n",
       "        vertical-align: top;\n",
       "    }\n",
       "\n",
       "    .dataframe thead th {\n",
       "        text-align: right;\n",
       "    }\n",
       "</style>\n",
       "<table border=\"1\" class=\"dataframe\">\n",
       "  <thead>\n",
       "    <tr style=\"text-align: right;\">\n",
       "      <th></th>\n",
       "      <th>total_bill</th>\n",
       "      <th>tip</th>\n",
       "      <th>sex</th>\n",
       "      <th>smoker</th>\n",
       "      <th>day</th>\n",
       "      <th>time</th>\n",
       "      <th>size</th>\n",
       "    </tr>\n",
       "  </thead>\n",
       "  <tbody>\n",
       "    <tr>\n",
       "      <th>0</th>\n",
       "      <td>15.98</td>\n",
       "      <td>1.01</td>\n",
       "      <td>Female</td>\n",
       "      <td>No</td>\n",
       "      <td>Sun</td>\n",
       "      <td>Dinner</td>\n",
       "      <td>2</td>\n",
       "    </tr>\n",
       "    <tr>\n",
       "      <th>1</th>\n",
       "      <td>8.68</td>\n",
       "      <td>1.66</td>\n",
       "      <td>Male</td>\n",
       "      <td>No</td>\n",
       "      <td>Sun</td>\n",
       "      <td>Dinner</td>\n",
       "      <td>3</td>\n",
       "    </tr>\n",
       "    <tr>\n",
       "      <th>2</th>\n",
       "      <td>17.51</td>\n",
       "      <td>3.50</td>\n",
       "      <td>Male</td>\n",
       "      <td>No</td>\n",
       "      <td>Sun</td>\n",
       "      <td>Dinner</td>\n",
       "      <td>3</td>\n",
       "    </tr>\n",
       "    <tr>\n",
       "      <th>3</th>\n",
       "      <td>20.37</td>\n",
       "      <td>3.31</td>\n",
       "      <td>Male</td>\n",
       "      <td>No</td>\n",
       "      <td>Sun</td>\n",
       "      <td>Dinner</td>\n",
       "      <td>2</td>\n",
       "    </tr>\n",
       "    <tr>\n",
       "      <th>4</th>\n",
       "      <td>20.98</td>\n",
       "      <td>3.61</td>\n",
       "      <td>Female</td>\n",
       "      <td>No</td>\n",
       "      <td>Sun</td>\n",
       "      <td>Dinner</td>\n",
       "      <td>4</td>\n",
       "    </tr>\n",
       "  </tbody>\n",
       "</table>\n",
       "</div>"
      ],
      "text/plain": [
       "   total_bill   tip     sex smoker  day    time  size\n",
       "0       15.98  1.01  Female     No  Sun  Dinner     2\n",
       "1        8.68  1.66    Male     No  Sun  Dinner     3\n",
       "2       17.51  3.50    Male     No  Sun  Dinner     3\n",
       "3       20.37  3.31    Male     No  Sun  Dinner     2\n",
       "4       20.98  3.61  Female     No  Sun  Dinner     4"
      ]
     },
     "execution_count": 24,
     "metadata": {},
     "output_type": "execute_result"
    }
   ],
   "source": [
    "df.head()"
   ]
  },
  {
   "cell_type": "code",
   "execution_count": 25,
   "id": "ba1c5c59-04ad-40cb-b9f3-4d534f8abda8",
   "metadata": {},
   "outputs": [
    {
     "data": {
      "image/png": "[encoded data removed]",
      "text/plain": [
       "<Figure size 640x480 with 1 Axes>"
      ]
     },
     "metadata": {},
     "output_type": "display_data"
    }
   ],
   "source": [
    "df.plot.scatter(\"tip\",\"total_bill\");"
   ]
  },
  {
   "cell_type": "markdown",
   "id": "70d81375-67f7-48f7-bfdd-ae0ebced35f5",
   "metadata": {},
   "source": [
    "**VARSAYIM KONTROLÜ**"
   ]
  },
  {
   "cell_type": "code",
   "execution_count": 26,
   "id": "3590cecc-2610-4695-a712-54320c83f8dd",
   "metadata": {},
   "outputs": [],
   "source": [
    "from scipy.stats import shapiro"
   ]
  },
  {
   "cell_type": "code",
   "execution_count": 27,
   "id": "d3f53454-3c42-4087-aca1-7e5afc545e76",
   "metadata": {},
   "outputs": [
    {
     "name": "stdout",
     "output_type": "stream",
     "text": [
      "Test İstatistiği = 0.8978, p-değeri = 0.0000\n",
      "Test İstatistiği = 0.9136, p-değeri = 0.0000\n"
     ]
    }
   ],
   "source": [
    "test_istatistigi, pvalue = shapiro(df[\"tip\"])\n",
    "print('Test İstatistiği = %.4f, p-değeri = %.4f' % (test_istatistigi, pvalue))\n",
    "\n",
    "test_istatistigi, pvalue = shapiro(df[\"total_bill\"])\n",
    "print('Test İstatistiği = %.4f, p-değeri = %.4f' % (test_istatistigi, pvalue))"
   ]
  },
  {
   "cell_type": "markdown",
   "id": "8d05c8a5-fed0-4cc2-9d5e-d058e8fd159b",
   "metadata": {},
   "source": [
    "**HİPOTEZ TESTİ**"
   ]
  },
  {
   "cell_type": "code",
   "execution_count": 65,
   "id": "48026382-68cd-482c-bcaf-706c8b2c46f5",
   "metadata": {},
   "outputs": [
    {
     "data": {
      "text/plain": [
       "0.5766634471096374"
      ]
     },
     "execution_count": 65,
     "metadata": {},
     "output_type": "execute_result"
    }
   ],
   "source": [
    "# Korelasyon Katsayısı\n",
    "df[\"tip\"].corr(df[\"total_bill\"])"
   ]
  },
  {
   "cell_type": "code",
   "execution_count": 66,
   "id": "a90b7178-5bd8-4292-b8f1-85a1ff879a4a",
   "metadata": {},
   "outputs": [
    {
     "data": {
      "text/plain": [
       "0.593691939408997"
      ]
     },
     "execution_count": 66,
     "metadata": {},
     "output_type": "execute_result"
    }
   ],
   "source": [
    "df[\"tip\"].corr(df[\"total_bill\"], method = \"spearman\")"
   ]
  },
  {
   "cell_type": "code",
   "execution_count": 4,
   "id": "2638a1cf-765c-47cf-a48d-c366311ae2ea",
   "metadata": {},
   "outputs": [],
   "source": []
  },
  {
   "cell_type": "code",
   "execution_count": null,
   "id": "b23a9ccd-c56e-45af-aee8-25519f092860",
   "metadata": {},
   "outputs": [],
   "source": []
  }
 ],
 "metadata": {
  "kernelspec": {
   "display_name": "Python 3 (ipykernel)",
   "language": "python",
   "name": "python3"
  },
  "language_info": {
   "codemirror_mode": {
    "name": "ipython",
    "version": 3
   },
   "file_extension": ".py",
   "mimetype": "text/x-python",
   "name": "python",
   "nbconvert_exporter": "python",
   "pygments_lexer": "ipython3",
   "version": "3.9.13"
  }
 },
 "nbformat": 4,
 "nbformat_minor": 5
}
